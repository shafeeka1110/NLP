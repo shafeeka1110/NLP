{
 "cells": [
  {
   "cell_type": "code",
   "execution_count": 4,
   "id": "4d13479b-1577-4ff8-aff5-d99639a4bb1c",
   "metadata": {},
   "outputs": [
    {
     "name": "stdout",
     "output_type": "stream",
     "text": [
      "la vie est bell .\n"
     ]
    }
   ],
   "source": [
    "import nltk\n",
    "from nltk.stem import SnowballStemmer\n",
    "stem=SnowballStemmer('english')\n",
    "v=\"La vie est belle.\"\n",
    "l=nltk.word_tokenize(v)\n",
    "\n",
    "print(' '.join(stem.stem(x) for x in l))"
   ]
  },
  {
   "cell_type": "code",
   "execution_count": 6,
   "id": "dd6f0bb6-9012-48d0-985e-005356120964",
   "metadata": {},
   "outputs": [
    {
     "name": "stdout",
     "output_type": "stream",
     "text": [
      "play is my fulli entertain play and re-gret your emot play\n"
     ]
    }
   ],
   "source": [
    "from nltk.stem import PorterStemmer   # sufix\n",
    "por=PorterStemmer()\n",
    "g=\"Plays is my fully entertainment Playings and re-gret your emotions played\"\n",
    "m=nltk.word_tokenize(g)\n",
    "print(' '.join(por.stem(x) for x in m))"
   ]
  },
  {
   "cell_type": "code",
   "execution_count": 8,
   "id": "7081544d-fec3-4efe-9080-a5f0b81fdd71",
   "metadata": {},
   "outputs": [
    {
     "name": "stdout",
     "output_type": "stream",
     "text": [
      "play is my ful entertain play and re-gret yo emot play\n"
     ]
    }
   ],
   "source": [
    "from nltk.stem import LancasterStemmer\n",
    "stemmer = LancasterStemmer()\n",
    "g=\"Plays is my fully entertainment Playings and re-gret your emotions played\"\n",
    "m=nltk.word_tokenize(g)\n",
    "print(' '.join(stemmer.stem(x) for x in m))"
   ]
  },
  {
   "cell_type": "code",
   "execution_count": 10,
   "id": "02c49016-2856-4428-8fea-a98c87b21c84",
   "metadata": {},
   "outputs": [
    {
     "name": "stdout",
     "output_type": "stream",
     "text": [
      "Original Word: running\n",
      "Stemmed Word: runn\n"
     ]
    }
   ],
   "source": [
    "from nltk.stem import RegexpStemmer\n",
    " \n",
    "# Create a Regexp Stemmer with a custom rule\n",
    "custom_rule = r'ing$'\n",
    "regexp_stemmer = RegexpStemmer(custom_rule)\n",
    " \n",
    "# Apply the stemmer to a word\n",
    "word = 'running'\n",
    "stemmed_word = regexp_stemmer.stem(word)\n",
    " \n",
    "print(f'Original Word: {word}')\n",
    "print(f'Stemmed Word: {stemmed_word}')"
   ]
  },
  {
   "cell_type": "code",
   "execution_count": 16,
   "id": "cfa944fe-2534-4b6d-a486-c839504d5160",
   "metadata": {},
   "outputs": [
    {
     "name": "stdout",
     "output_type": "stream",
     "text": [
      "{'running'}\n"
     ]
    }
   ],
   "source": [
    "from nltk.stem import RegexpStemmer\n",
    "custom_rule=r'ings$'\n",
    "regexp_stemmer=RegexpStemmer(custom_rule)\n",
    "word='running'\n",
    "stemmed_word=regexp_stemmer.stem(word)\n",
    "print({stemmed_word})"
   ]
  },
  {
   "cell_type": "code",
   "execution_count": 18,
   "id": "78dd6338-10f2-4293-b5fa-30baee03a88c",
   "metadata": {},
   "outputs": [
    {
     "name": "stdout",
     "output_type": "stream",
     "text": [
      "Sentence 1: Hello!\n",
      "Sentence 2: My name is John.\n",
      "Sentence 3: I love programming in Python.\n",
      "Sentence 4: I also enjoy solving data science problems.\n",
      "Sentence 5: How about you?\n"
     ]
    }
   ],
   "source": [
    "import nltk\n",
    "from nltk.tokenize import sent_tokenize\n",
    "\n",
    "# Sample paragraph\n",
    "text = \"\"\"Hello! My name is John. I love programming in Python.\n",
    "           I also enjoy solving data science problems. How about you?\"\"\"\n",
    "\n",
    "# Perform sentence segmentation\n",
    "sentences = sent_tokenize(text)\n",
    "\n",
    "# Print the segmented sentences\n",
    "for i, sentence in enumerate(sentences, 1):\n",
    "    print(f\"Sentence {i}: {sentence}\")\n"
   ]
  },
  {
   "cell_type": "code",
   "execution_count": 20,
   "id": "15f2c638-1b12-4e10-9222-5fbc8b515e95",
   "metadata": {},
   "outputs": [
    {
     "name": "stdout",
     "output_type": "stream",
     "text": [
      "Sentence 1: Hello!\n",
      "Sentence 2: My name is John.\n",
      "Sentence 3: I love programming in Python.\n",
      "           \n",
      "Sentence 4: I also enjoy solving data science problems.\n",
      "Sentence 5: How about you?\n"
     ]
    }
   ],
   "source": [
    "import spacy\n",
    "\n",
    "# Load the small English model\n",
    "nlp = spacy.load(\"en_core_web_sm\")\n",
    "\n",
    "# Sample text\n",
    "text = \"\"\"Hello! My name is John. I love programming in Python.\n",
    "           I also enjoy solving data science problems. How about you?\"\"\"\n",
    "\n",
    "# Process the text\n",
    "doc = nlp(text)\n",
    "\n",
    "# Perform sentence segmentation and print the sentences\n",
    "for i, sentence in enumerate(doc.sents, 1):\n",
    "    print(f\"Sentence {i}: {sentence}\")\n"
   ]
  },
  {
   "cell_type": "code",
   "execution_count": null,
   "id": "8953a532-7d05-4b0f-a11f-60ebc46991bd",
   "metadata": {},
   "outputs": [],
   "source": []
  }
 ],
 "metadata": {
  "kernelspec": {
   "display_name": "Python 3 (ipykernel)",
   "language": "python",
   "name": "python3"
  },
  "language_info": {
   "codemirror_mode": {
    "name": "ipython",
    "version": 3
   },
   "file_extension": ".py",
   "mimetype": "text/x-python",
   "name": "python",
   "nbconvert_exporter": "python",
   "pygments_lexer": "ipython3",
   "version": "3.12.3"
  }
 },
 "nbformat": 4,
 "nbformat_minor": 5
}

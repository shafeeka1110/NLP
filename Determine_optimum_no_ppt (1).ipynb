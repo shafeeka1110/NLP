{
 "cells": [
  {
   "cell_type": "code",
   "execution_count": 9,
   "id": "1e59eb68-9ba5-4d3c-bd66-c2e6fa642ea2",
   "metadata": {},
   "outputs": [
    {
     "data": {
      "text/plain": [
       "0.577234447447625"
      ]
     },
     "execution_count": 9,
     "metadata": {},
     "output_type": "execute_result"
    }
   ],
   "source": [
    "import gensim\n",
    "from gensim.models import LdaModel\n",
    "from gensim.corpora import Dictionary\n",
    "from gensim.utils import simple_preprocess\n",
    "from gensim.models.coherencemodel import CoherenceModel\n",
    "import nltk\n",
    "\n",
    "def preprocess_text(text):\n",
    "    \"\"\"Preprocesses the text by tokenizing, removing stopwords, and stemming.\"\"\"\n",
    "    words = simple_preprocess(text)\n",
    "    stop_words = set(nltk.corpus.stopwords.words('english'))\n",
    "    return [word for word in words if word not in stop_words]\n",
    "\n",
    "# Load your document data\n",
    "documents=['The cat sat on the mat.',\n",
    "        'Dogs are great pets.',\n",
    "        'I love to play football.',\n",
    "        'Data science is an interdisciplinary field.',\n",
    "        'Python is a great programming language.',\n",
    "        'Machine learning is a subset of artificial intelligence.',\n",
    "        'Artificial intelligence and machine learning are popular topics.',\n",
    "        'Deep learning is a type of machine learning.',\n",
    "        'Natural language processing involves analyzing text data.',\n",
    "        'I enjoy hiking and outdoor activities.']\n",
    "\n",
    "# Preprocess the documents\n",
    "preprocessed_docs = [preprocess_text(doc) for doc in documents]\n",
    "\n",
    "# Create a dictionary and corpus\n",
    "dictionary = Dictionary(preprocessed_docs)\n",
    "corpus = [dictionary.doc2bow(doc) for doc in preprocessed_docs]\n",
    "\n",
    "lda_model = LdaModel(corpus, num_topics=3, id2word=dictionary)\n",
    "coherence_model = CoherenceModel(model=lda_model, texts=preprocessed_docs, dictionary=dictionary, coherence='c_v')\n",
    "coherence_score = coherence_model.get_coherence()\n",
    "\n",
    "coherence_score"
   ]
  },
  {
   "cell_type": "code",
   "execution_count": null,
   "id": "c0918b0c-efae-404e-bef5-7214bb9ff2e5",
   "metadata": {},
   "outputs": [],
   "source": []
  },
  {
   "cell_type": "code",
   "execution_count": 1,
   "id": "685e9a10-39a6-4b22-a5da-a2edc053976b",
   "metadata": {},
   "outputs": [
    {
     "name": "stdout",
     "output_type": "stream",
     "text": [
      "Optimal number of topics: 6\n"
     ]
    }
   ],
   "source": [
    "import gensim\n",
    "from gensim.models import LdaModel\n",
    "from gensim.corpora import Dictionary\n",
    "from gensim.utils import simple_preprocess\n",
    "from gensim.models.coherencemodel import CoherenceModel\n",
    "import nltk\n",
    "\n",
    "def preprocess_text(text):\n",
    "    \"\"\"Preprocesses the text by tokenizing, removing stopwords, and stemming.\"\"\"\n",
    "    words = simple_preprocess(text)\n",
    "    stop_words = set(nltk.corpus.stopwords.words('english'))\n",
    "    return [word for word in words if word not in stop_words]\n",
    "\n",
    "# Load your document data\n",
    "documents=['The cat sat on the mat.',\n",
    "        'Dogs are great pets.',\n",
    "        'I love to play football.',\n",
    "        'Data science is an interdisciplinary field.',\n",
    "        'Python is a great programming language.',\n",
    "        'Machine learning is a subset of artificial intelligence.',\n",
    "        'Artificial intelligence and machine learning are popular topics.',\n",
    "        'Deep learning is a type of machine learning.',\n",
    "        'Natural language processing involves analyzing text data.',\n",
    "        'I enjoy hiking and outdoor activities.']\n",
    "\n",
    "# Preprocess the documents\n",
    "preprocessed_docs = [preprocess_text(doc) for doc in documents]\n",
    "\n",
    "# Create a dictionary and corpus\n",
    "dictionary = Dictionary(preprocessed_docs)\n",
    "corpus = [dictionary.doc2bow(doc) for doc in preprocessed_docs]\n",
    "\n",
    "# Experiment with different numbers of topics and evaluate coherence\n",
    "num_topics_range = range(2, 10)  # Adjust the range as needed\n",
    "coherence_scores = []\n",
    "\n",
    "for num_topics in num_topics_range:\n",
    "    lda_model = LdaModel(corpus, num_topics=num_topics, id2word=dictionary)\n",
    "    coherence_model = CoherenceModel(model=lda_model, texts=preprocessed_docs, dictionary=dictionary, coherence='c_v')\n",
    "    coherence_score = coherence_model.get_coherence()\n",
    "    coherence_scores.append(coherence_score)\n",
    "\n",
    "# Find the number of topics with the highest coherence\n",
    "optimal_num_topics = num_topics_range[coherence_scores.index(max(coherence_scores))]\n",
    "\n",
    "print(\"Optimal number of topics:\", optimal_num_topics)"
   ]
  },
  {
   "cell_type": "code",
   "execution_count": 4,
   "id": "f7c3ab42-5e42-4136-902e-1d4085b0a31f",
   "metadata": {},
   "outputs": [
    {
     "data": {
      "text/plain": [
       "[0.5691435296539489,\n",
       " 0.6097924505475859,\n",
       " 0.6126698659622947,\n",
       " 0.6341632356963649,\n",
       " 0.6435371414354529,\n",
       " 0.6421952185385129,\n",
       " 0.6427973293775677,\n",
       " 0.6424362686036008]"
      ]
     },
     "execution_count": 4,
     "metadata": {},
     "output_type": "execute_result"
    }
   ],
   "source": [
    "coherence_scores"
   ]
  },
  {
   "cell_type": "code",
   "execution_count": null,
   "id": "b2013fe0-1a7c-4d7a-912b-0e7218775633",
   "metadata": {},
   "outputs": [],
   "source": []
  }
 ],
 "metadata": {
  "kernelspec": {
   "display_name": "Python 3 (ipykernel)",
   "language": "python",
   "name": "python3"
  },
  "language_info": {
   "codemirror_mode": {
    "name": "ipython",
    "version": 3
   },
   "file_extension": ".py",
   "mimetype": "text/x-python",
   "name": "python",
   "nbconvert_exporter": "python",
   "pygments_lexer": "ipython3",
   "version": "3.12.3"
  }
 },
 "nbformat": 4,
 "nbformat_minor": 5
}

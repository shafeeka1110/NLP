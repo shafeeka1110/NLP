{
 "cells": [
  {
   "cell_type": "code",
   "execution_count": 2,
   "id": "62d2c555-fc34-437e-a68b-716ff93636fc",
   "metadata": {},
   "outputs": [
    {
     "name": "stdout",
     "output_type": "stream",
     "text": [
      "[[0.30151134 0.30151134 0.30151134 0.30151134 0.30151134 0.30151134\n",
      "  0.30151134 0.60302269]]\n",
      "['brown' 'dog' 'fox' 'jumps' 'lazy' 'over' 'quick' 'the']\n"
     ]
    }
   ],
   "source": [
    "from sklearn.feature_extraction.text import TfidfVectorizer\n",
    "text=[\"The quick brown fox jumps over the lazy dog\"]\n",
    "tfidf_vectorizer=TfidfVectorizer()\n",
    "tfidf_matrix=tfidf_vectorizer.fit_transform(text)\n",
    "print(tfidf_matrix.toarray())\n",
    "print(tfidf_vectorizer.get_feature_names_out())\n",
    "\n",
    "# Initialize the vectorizer']"
   ]
  },
  {
   "cell_type": "code",
   "execution_count": 3,
   "id": "749175f6-a426-436a-93a7-b4c00e885646",
   "metadata": {},
   "outputs": [
    {
     "name": "stdout",
     "output_type": "stream",
     "text": [
      "vocabulary: {'data': 1, 'preprocessing': 7, 'is': 5, 'an': 0, 'important': 3, 'task': 8, 'in': 4, 'losu': 6, 'eruma': 2}\n",
      "encoded document is:\n",
      "[[1 1 0 1 2 1 0 1 1]\n",
      " [0 0 1 0 0 0 1 0 0]]\n"
     ]
    }
   ],
   "source": [
    "from sklearn.feature_extraction.text import CountVectorizer\n",
    "word_count=\"Data preprocessing is an important task in in.\",\" losu eruma\"\n",
    "vectorizer=CountVectorizer()\n",
    "vectorizer.fit(word_count)\n",
    "print(\"vocabulary:\",vectorizer.vocabulary_)\n",
    "vector=vectorizer.transform(word_count)\n",
    "print(\"encoded document is:\")\n",
    "print(vector.toarray())"
   ]
  },
  {
   "cell_type": "code",
   "execution_count": null,
   "id": "1d37c342-df40-46ea-af4e-158921ee7bfa",
   "metadata": {},
   "outputs": [],
   "source": [
    "import spacy\n",
    "import pytextrank\n",
    "text=\"TextRank is a keyword extraction algorithm based on PageRank and has been widely used in natural language processing tasks.\"\n",
    "nlp=spacy.load('en_core_web_sm')\n",
    "nlp.add_pipe('textrank')\n",
    "doc=nlp(text)\n",
    "for phrase in doc._.phrases[:10]:\n",
    "    print(phrase.text)"
   ]
  }
 ],
 "metadata": {
  "kernelspec": {
   "display_name": "Python 3 (ipykernel)",
   "language": "python",
   "name": "python3"
  },
  "language_info": {
   "codemirror_mode": {
    "name": "ipython",
    "version": 3
   },
   "file_extension": ".py",
   "mimetype": "text/x-python",
   "name": "python",
   "nbconvert_exporter": "python",
   "pygments_lexer": "ipython3",
   "version": "3.12.3"
  }
 },
 "nbformat": 4,
 "nbformat_minor": 5
}

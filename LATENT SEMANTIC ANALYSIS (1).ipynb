{
 "cells": [
  {
   "cell_type": "code",
   "execution_count": 6,
   "id": "efe77dfc-7f61-42f8-810d-51665488082c",
   "metadata": {},
   "outputs": [],
   "source": [
    "import numpy as np\n",
    "import pandas as pd\n",
    "from sklearn.feature_extraction.text import TfidfVectorizer\n",
    "from sklearn.decomposition import TruncatedSVD\n",
    "from sklearn.pipeline import make_pipeline\n",
    "from sklearn.preprocessing import Normalizer\n",
    "from sklearn.datasets import fetch_20newsgroups"
   ]
  },
  {
   "cell_type": "code",
   "execution_count": 18,
   "id": "cc93fd25-3800-4e0d-a882-4a7d3ab447a8",
   "metadata": {},
   "outputs": [],
   "source": [
    "dataset=fetch_20newsgroups(subset='all',categories=['sci.space','rec.sport.baseball'],\n",
    "                          remove=('headers','footers','quotes'))"
   ]
  },
  {
   "cell_type": "code",
   "execution_count": 22,
   "id": "620344fd-3e58-4002-a0f3-7e5b66767d94",
   "metadata": {},
   "outputs": [],
   "source": [
    "doc=dataset.data"
   ]
  },
  {
   "cell_type": "code",
   "execution_count": 26,
   "id": "8b0e97ff-0b2d-4e7c-b5c0-8869de2df040",
   "metadata": {},
   "outputs": [],
   "source": [
    "vectorizer=TfidfVectorizer(max_df=0.5,max_features=1000,stop_words='english')\n",
    "x=vectorizer.fit_transform(doc)"
   ]
  },
  {
   "cell_type": "code",
   "execution_count": 32,
   "id": "0352f413-dea8-484d-a54f-037b278d7ce7",
   "metadata": {},
   "outputs": [],
   "source": [
    "lsa=TruncatedSVD(n_components=100,random_state=42)\n",
    "x_lsa=lsa.fit_transform(x)"
   ]
  },
  {
   "cell_type": "code",
   "execution_count": 34,
   "id": "d23bd725-7c91-4a58-b960-900c4fb9be56",
   "metadata": {},
   "outputs": [],
   "source": [
    "x_lsa_normalized=Normalizer(copy=False).fit_transform(x_lsa)"
   ]
  },
  {
   "cell_type": "code",
   "execution_count": 46,
   "id": "f70b945e-ecef-4a61-8d52-c9f1a21bc54a",
   "metadata": {},
   "outputs": [],
   "source": [
    "terms=vectorizer.get_feature_names_out()"
   ]
  },
  {
   "cell_type": "code",
   "execution_count": 48,
   "id": "f4d635ee-e919-4ea9-bb5a-0d3a1c020e00",
   "metadata": {},
   "outputs": [
    {
     "name": "stdout",
     "output_type": "stream",
     "text": [
      "Topic0:\n",
      "space,year,don,like,think,just,time,game,know,good\n",
      "Topic1:\n",
      "space,nasa,shuttle,launch,orbit,program,moon,earth,mission,satellite\n",
      "Topic2:\n",
      "space,team,game,games,runs,shuttle,year,win,nasa,pitching\n",
      "Topic3:\n",
      "thanks,list,baseball,edu,mail,mailing,space,know,games,just\n",
      "Topic4:\n",
      "year,space,good,think,better,years,league,players,career,average\n"
     ]
    }
   ],
   "source": [
    "for i,comp in enumerate(lsa.components_[:5]):\n",
    "    terms_in_component=np.argsort(comp)[::-1][:10]\n",
    "    print(f'Topic{i}:')\n",
    "    print(','.join(terms[term] for term in terms_in_component))"
   ]
  },
  {
   "cell_type": "code",
   "execution_count": 50,
   "id": "a78970f1-eda5-4af4-8150-9f2e24e75730",
   "metadata": {},
   "outputs": [
    {
     "name": "stdout",
     "output_type": "stream",
     "text": [
      "\n",
      "Total explained variance by the first 100 components: 0.36\n"
     ]
    }
   ],
   "source": [
    "explained_variance = lsa.explained_variance_ratio_.sum()\n",
    "print(f\"\\nTotal explained variance by the first 100 components: {explained_variance:.2f}\")"
   ]
  },
  {
   "cell_type": "code",
   "execution_count": 54,
   "id": "0f5adaff-76c8-46a0-b9d5-cfbdf8840d6c",
   "metadata": {},
   "outputs": [],
   "source": [
    "lsa_matrix=lsa.fit_transform(x)"
   ]
  },
  {
   "cell_type": "code",
   "execution_count": 56,
   "id": "50ad542a-e89f-41a2-b67b-bfe15c782539",
   "metadata": {},
   "outputs": [
    {
     "data": {
      "text/plain": [
       "array([[ 0.37030025, -0.16242244, -0.08195824, ..., -0.02524   ,\n",
       "        -0.00638388, -0.03246328],\n",
       "       [ 0.09072127, -0.03903872, -0.02876184, ...,  0.0634347 ,\n",
       "        -0.0728662 ,  0.03158739],\n",
       "       [ 0.29049162, -0.13237961,  0.13677135, ..., -0.0122832 ,\n",
       "         0.02511141, -0.06693441],\n",
       "       ...,\n",
       "       [ 0.09607232,  0.02213204, -0.03813851, ...,  0.01057824,\n",
       "         0.00433295,  0.03088208],\n",
       "       [ 0.08697255, -0.06783112,  0.00176349, ...,  0.01028695,\n",
       "         0.01110754, -0.00518875],\n",
       "       [ 0.27855426,  0.20460254, -0.0627861 , ..., -0.02298982,\n",
       "        -0.0087584 ,  0.04936954]])"
      ]
     },
     "execution_count": 56,
     "metadata": {},
     "output_type": "execute_result"
    }
   ],
   "source": [
    "lsa_matrix"
   ]
  },
  {
   "cell_type": "code",
   "execution_count": null,
   "id": "b5c9672a-ca9d-44b9-94a0-8d8b5ae4b7d8",
   "metadata": {},
   "outputs": [],
   "source": []
  }
 ],
 "metadata": {
  "kernelspec": {
   "display_name": "Python 3 (ipykernel)",
   "language": "python",
   "name": "python3"
  },
  "language_info": {
   "codemirror_mode": {
    "name": "ipython",
    "version": 3
   },
   "file_extension": ".py",
   "mimetype": "text/x-python",
   "name": "python",
   "nbconvert_exporter": "python",
   "pygments_lexer": "ipython3",
   "version": "3.12.3"
  }
 },
 "nbformat": 4,
 "nbformat_minor": 5
}

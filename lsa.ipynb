{
 "cells": [
  {
   "cell_type": "code",
   "execution_count": 2,
   "id": "23110428-cfb7-4bd4-8f44-49f568d4e41b",
   "metadata": {},
   "outputs": [],
   "source": [
    "from sklearn.decomposition import TruncatedSVD\n",
    "from sklearn.datasets import fetch_20newsgroups\n",
    "from sklearn.feature_extraction.text import TfidfVectorizer\n",
    "import pandas as pd"
   ]
  },
  {
   "cell_type": "code",
   "execution_count": 4,
   "id": "033c6afb-b76a-48ce-a064-220fa58a898a",
   "metadata": {},
   "outputs": [],
   "source": [
    "newsgroups_data = fetch_20newsgroups(subset='all', remove=('headers', 'footers', 'quotes'))"
   ]
  },
  {
   "cell_type": "code",
   "execution_count": 6,
   "id": "788f31c1-f417-4a93-a993-cb1f46c650bc",
   "metadata": {},
   "outputs": [],
   "source": [
    "vectorizer = TfidfVectorizer(max_df=0.5, min_df=2, stop_words='english')\n",
    "X_tfidf = vectorizer.fit_transform(newsgroups_data.data)"
   ]
  },
  {
   "cell_type": "code",
   "execution_count": 8,
   "id": "ccd1b56b-41bd-409e-85d0-090bbd9908f6",
   "metadata": {},
   "outputs": [],
   "source": [
    "n_components = 5  # Number of topics/components to extract\n",
    "lsa = TruncatedSVD(n_components=n_components, random_state=42)\n",
    "X_lsa = lsa.fit_transform(X_tfidf)"
   ]
  },
  {
   "cell_type": "code",
   "execution_count": 10,
   "id": "8b9c7d82-0712-4df8-a1c4-6cb9d22ee2fc",
   "metadata": {},
   "outputs": [],
   "source": [
    "terms = vectorizer.get_feature_names_out()"
   ]
  },
  {
   "cell_type": "code",
   "execution_count": 12,
   "id": "1ffa5b87-43f6-45ca-8319-acb134b24435",
   "metadata": {},
   "outputs": [
    {
     "name": "stdout",
     "output_type": "stream",
     "text": [
      "Topic 0: don just like know people think does use time good\n",
      "Topic 1: windows thanks drive card dos file pc scsi software program\n",
      "Topic 2: god windows jesus does bible thanks christ dos christian faith\n",
      "Topic 3: drive scsi god ide hard card controller drives disk game\n",
      "Topic 4: drive key scsi chip government encryption clipper keys law ide\n"
     ]
    }
   ],
   "source": [
    "for i, component in enumerate(lsa.components_):\n",
    "    terms_in_topic = [terms[i] for i in component.argsort()[:-10 - 1:-1]]  # Top 10 terms\n",
    "    print(f\"Topic {i}: {' '.join(terms_in_topic)}\")"
   ]
  },
  {
   "cell_type": "code",
   "execution_count": null,
   "id": "a3ff5af3-f1d7-4a45-9250-b54d01cbaf17",
   "metadata": {},
   "outputs": [],
   "source": []
  }
 ],
 "metadata": {
  "kernelspec": {
   "display_name": "Python 3 (ipykernel)",
   "language": "python",
   "name": "python3"
  },
  "language_info": {
   "codemirror_mode": {
    "name": "ipython",
    "version": 3
   },
   "file_extension": ".py",
   "mimetype": "text/x-python",
   "name": "python",
   "nbconvert_exporter": "python",
   "pygments_lexer": "ipython3",
   "version": "3.12.3"
  }
 },
 "nbformat": 4,
 "nbformat_minor": 5
}
